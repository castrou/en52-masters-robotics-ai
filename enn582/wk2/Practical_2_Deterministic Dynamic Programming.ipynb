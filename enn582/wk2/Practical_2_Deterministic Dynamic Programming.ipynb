{
 "cells": [
  {
   "cell_type": "markdown",
   "metadata": {},
   "source": [
    "# Practical 2: Deterministic Dynamic Programming"
   ]
  },
  {
   "cell_type": "markdown",
   "metadata": {},
   "source": [
    "Author: CAMERON STROUD\n",
    "\n",
    "Student Number: n11552123"
   ]
  },
  {
   "cell_type": "markdown",
   "metadata": {},
   "source": [
    "### Learning Outcomes:\n",
    "In this practical you will address the following learning outcomes:\n",
    "- Control Sequences\n",
    "- Cost Functions\n",
    "- Deterministic Dynamic Programming"
   ]
  },
  {
   "cell_type": "markdown",
   "metadata": {},
   "source": [
    "We will require the following library for this practical (Import all necessary libraries before running the code):"
   ]
  },
  {
   "cell_type": "code",
   "execution_count": 1,
   "metadata": {},
   "outputs": [],
   "source": [
    "import numpy as np"
   ]
  },
  {
   "cell_type": "markdown",
   "metadata": {},
   "source": [
    "## Part A: Deterministic Shortest Path\n",
    "The Shortest Path Problem (SPP) involves finding the shortest path between two specific nodes in a weighted graph. In a graph, nodes represent points or locations, and edges represent connections between those points. A weighted graph includes numerical values associated with each edge, indicating the \"cost\" or \"weight\" of traveling between the connected nodes. The goal of the shortest path problem is to determine the path from a starting node to a target node that has the minimum total cost among all possible paths. The cost of a path is the sum of the costs of the edges along that path. Consider the following example:\n",
    "\n",
    "Tom, who resides in City \"A\", is planning a journey towards City \"H\". Given his limited funds, he has devised a strategic plan to spend each night during his expedition at the abode of a friend. Tom has friends in cities \"B\", \"C\", \"D\", \"E\", \"F\", and \"G\".\n",
    "\n",
    "Tom is mindful of optimizing his energy expenditure, and he is aware of the limited distances he can cover each day. On the first day of travel, he can comfortably reach City \"B\", \"C\", or \"D\". On the second day, he can reach City \"E\", \"F\", or \"G\". Ultimately, Tom can reach his destination, City \"H\", on the third day.\n",
    "\n",
    "To conserve energy and navigate his journey efficiently, Tom must strategically decide where to spend each night along the route. It's imperative for him to consider the energy requirements between cities, which are outlined in the subsequent table. By skillfully selecting his overnight stops, Tom can ensure his expedition is both cost-effective and successful.\n",
    "\n",
    "| Cities | A | B | C | D | E | F | G | H |\n",
    "|:---------:|:---------:|:---------:|:---------:|:---------:|:---------:|:---------:|:---------:|:---------:|\n",
    "| **A** | / | 333 | 282 | 230 | / | / | / | / |\n",
    "| **B** | / | / | / | / | 553 | 280 | 370 | / |\n",
    "| **C** | / | / | / | / | 470 | 404 | 522 | / |\n",
    "| **D** | / | / | / | / | 268 | 606 | 767 | / |\n",
    "| **E** | / | / | / | / | / | / | / | 807 |\n",
    "| **F** | / | / | / | / | / | / | / | 450 |\n",
    "| **G** | / | / | / | / | / | / | / | 603 |\n",
    "\n",
    "The left-hand side of the table indicates the departure cities, while the top denotes the arrival cities. For instance, the value \"333\" in the first row quantifies the energy from City \"A\" to City \"B\". Consider the following questions:"
   ]
  },
  {
   "cell_type": "markdown",
   "metadata": {},
   "source": [
    "### Q1:\n",
    "__Based on the above description and the energy table, construct a graphical representation of the shortest path problem involving the travel between cities. (Feel free to utilize any drawing tools at your disposal: e.g., PowerPoint, a hand-drawn illustration, etc.)__"
   ]
  },
  {
   "cell_type": "markdown",
   "metadata": {},
   "source": [
    "![/home/castrou/university/enn582/wk2/q1-graph.png](/home/castrou/university/enn582/wk2/q1-graph.png)"
   ]
  },
  {
   "cell_type": "markdown",
   "metadata": {},
   "source": [
    "### Q2\n",
    "__Inspect your graph, by inspection, identify the path with the least energy expenditure towards the destination.__"
   ]
  },
  {
   "cell_type": "markdown",
   "metadata": {},
   "source": [
    "A-B-F-H: 1063"
   ]
  },
  {
   "cell_type": "markdown",
   "metadata": {},
   "source": [
    "### Q3\n",
    "__For all possible paths, calculate their costs by hand using the \"cost-to-go\" functions. (Hint: use your graph)__"
   ]
  },
  {
   "cell_type": "markdown",
   "metadata": {},
   "source": [
    "A-B-E-H: 1693  \n",
    "A-B-F-H: 1063  \n",
    "A-B-G-H: 1306  \n",
    "  \n",
    "A-C-E-H: 1559  \n",
    "A-C-F-H: 1136  \n",
    "A-C-G-H: 1407  \n",
    "  \n",
    "A-D-E-H: 1305  \n",
    "A-D-F-H: 1286  \n",
    "A-D-G-H: 1600  "
   ]
  },
  {
   "cell_type": "markdown",
   "metadata": {},
   "source": [
    "### Q4\n",
    "__Examine all potential paths with \"cost-to-go\" functions in Q3, identify the path characterized by the lowest energy consumption. Does this align with your intuition in Q2? Provide an explanation for the outcome.__"
   ]
  },
  {
   "cell_type": "markdown",
   "metadata": {},
   "source": [
    "A-B-F-H has the lowest at 1063, this does align with the response to Q2. Q2 was discerned by working backwards from the goal following the lowest cost route."
   ]
  },
  {
   "cell_type": "markdown",
   "metadata": {},
   "source": [
    "### Q5\n",
    "__Use the dynamic programming (DP) algorithm to identify the best (optimal) path exhibiting the minimum energy. Does this align with the path from Q4?__"
   ]
  },
  {
   "cell_type": "markdown",
   "metadata": {},
   "source": [
    "J(H) = 0  \n",
    "J(E) = 807  \n",
    "J(F) = 450  \n",
    "J(G) = 603  \n",
    "J(B) = min{553 + J(E), 280 + J(F), 370 + J(G)} = min{1360, 730, 973} => If at B, go to F  \n",
    "J(C) = min{470 + J(E), 404 + J(F), 522 + J(G)} = min{1277, 854, 1125} => If at C, go to F  \n",
    "J(D) = min{268 + J(E), 606 + J(F), 767 + J(G)} = min{1074, 1056, 1370} => If at D, go to F  \n",
    "J(A) = min{333 + J(B), 282 + J(C), 230 + J(D)} = min{1063, 1136, 1286} => If at A, go to B  \n"
   ]
  },
  {
   "cell_type": "markdown",
   "metadata": {},
   "source": [
    "### Q6\n",
    "__Complete the following code to implement deterministic dynamic programming algorithm for the SSP. We have provided some setup code.__"
   ]
  },
  {
   "cell_type": "code",
   "execution_count": 2,
   "metadata": {},
   "outputs": [],
   "source": [
    "# Define the nodes at each step. Here, the nodes are defined by a dictionary. The keys in this dictionary \"0~3\" represent the \n",
    "# stage, and the values \"0~7\" represent City \"A\"~\"H\", respectively.\n",
    "nodes = {\n",
    "    0: [0],\n",
    "    1: [1,2,3],\n",
    "    2: [4,5,6],\n",
    "    3: [7],\n",
    "}\n",
    "\n",
    "# Define the actions and the corresponding costs between the nodes. The keys in this dictionary \"0~7\" represent City \"A\"~\"H\", \n",
    "# and the values corresponding to each key represent the next city and the energy cost between these two cities, respectively.\n",
    "graph = {\n",
    "    0: [(1,333), (2,282), (3,230)],\n",
    "    1: [(4,553), (5,280), (6,370)],\n",
    "    2: [(4,470), (5,404), (6,522)],\n",
    "    3: [(4,268), (5,606), (6,767)],\n",
    "    4: [(7,807)],\n",
    "    5: [(7,450)],\n",
    "    6: [(7,603)],\n",
    "    7: [],\n",
    "}"
   ]
  },
  {
   "cell_type": "code",
   "execution_count": 3,
   "metadata": {},
   "outputs": [
    {
     "name": "stdout",
     "output_type": "stream",
     "text": [
      "Optimal Cost: 1063.0\n",
      "Optimal Path: ['A', 'B', 'F', 'H']\n"
     ]
    }
   ],
   "source": [
    "num_stage = len(nodes)  # The number of stages\n",
    "num_nodes = len(graph)  # The number of nodes\n",
    "value_function = np.zeros(num_nodes)  # Initialize the value function for each node\n",
    "value_function[num_nodes-1] = 0\n",
    "optimal_action = np.zeros(num_nodes)  # Initialize the optimal action at each node\n",
    "optimal_action[num_nodes-1] = num_nodes-1\n",
    "optimal_path_index = nodes[0]  # Initialize the optimal path with the starting point\n",
    "\n",
    "cities = [\"A\", \"B\", \"C\", \"D\", \"E\", \"F\", \"G\", \"H\"]  # The city nodes\n",
    "\n",
    "def get_cost(graph_node):\n",
    "    '''\n",
    "    Param:\n",
    "        graph_node: Tuple <node index, transition cost>\n",
    "    '''\n",
    "    if graph_node[0] == (num_nodes - 1):\n",
    "        return graph_node[1]\n",
    "    else:\n",
    "        return graph_node[1] + get_cost(optimal_action[graph_node[0]])\n",
    "\n",
    "# Implement deterministic dynamical programming algorithm\n",
    "for k in range(num_stage-2, -1, -1):\n",
    "    for n in nodes[k]:\n",
    "        values = []\n",
    "        num_action = len(graph[n])\n",
    "        \n",
    "        # Hint: compute the value for each action, and append to the values list\n",
    "        ### START CODE HERE ###\n",
    "        for i in range (num_action):\n",
    "            node = graph[n][i][0]\n",
    "            cost = graph[n][i][1]\n",
    "            values.append(cost + value_function[node])\n",
    "        \n",
    "        ###  END CODE HERE ###\n",
    "        \n",
    "        value_function[n] = np.min(values)  # Choose the minimum value\n",
    "        optimal_action[n] = graph[n][np.argmin(values)][0]  # Extract the action with minimum value\n",
    "\n",
    "# Obtain the optimal path\n",
    "optimal_path = [\"A\"]\n",
    "for k in range(1, num_stage):\n",
    "    action = optimal_action[int(optimal_path_index[-1])]\n",
    "    optimal_path_index.append(int(action))\n",
    "    optimal_path.append(cities[int(action)])\n",
    "    \n",
    "# Print the results\n",
    "print('Optimal Cost:', value_function[0])\n",
    "print('Optimal Path:', optimal_path)"
   ]
  },
  {
   "cell_type": "markdown",
   "metadata": {},
   "source": [
    "### Q7\n",
    "__Compare the result of your DP implementation to the by-hand computation in Q4 and Q5.__"
   ]
  },
  {
   "cell_type": "markdown",
   "metadata": {},
   "source": [
    "The DP implementation has achieved the same result as the hand-computation in Q4 and Q5: A-B-F-H with total cost 1063"
   ]
  },
  {
   "cell_type": "markdown",
   "metadata": {},
   "source": [
    "## Part B: Traveling Salesperson\n",
    "In the Traveling Salesperson Problem (TSP), a salesperson is tasked with visiting a set of cities exactly once and returning to the starting city, while minimizing the total distance or cost traveled. The goal is to find the shortest possible route that visits all cities and returns to the starting point. Different from the above SSP, all cities are accessible in TSP.\n",
    "\n",
    "Consider the following example: There are four cities \"A\", \"B\", \"C\", \"D\". The salesperson travels from City \"A\", and wishes to find a minimum cost (distance) that visits each of the cities once and return to City \"A\"."
   ]
  },
  {
   "cell_type": "markdown",
   "metadata": {},
   "source": [
    "### Q8\n",
    "__Consider the following given costs (travel distances), intuit the best control sequence. Explain why you chose this sequence.__"
   ]
  },
  {
   "cell_type": "markdown",
   "metadata": {},
   "source": [
    "| Cities | A | B | C | D | \n",
    "|:---------:|:---------:|:---------:|:---------:|:---------:|\n",
    "| **A** | 0 | 5 | 1 | 15 | \n",
    "| **B** | 5 | 0 | 20 | 4 | \n",
    "| **C** | 1 | 20 | 0 | 3 |\n",
    "| **D** | 15 | 4 | 3 | 0 | "
   ]
  },
  {
   "cell_type": "markdown",
   "metadata": {},
   "source": [
    "Inuitively, it seems that A-C-D-B-A is the best route. This was selected by following the lowest cost route at each step, with the final transition just being back to A to fit the constraint."
   ]
  },
  {
   "cell_type": "markdown",
   "metadata": {},
   "source": [
    "### Q9\n",
    "__For all possible control sequences, calculate their costs by hand using the \"cost-to-go\" functions of all constituent cities.__"
   ]
  },
  {
   "cell_type": "markdown",
   "metadata": {},
   "source": [
    "A-B-C-D-A: 43  \n",
    "A-B-D-C-A: 13  \n",
    "A-C-B-D-A: 40  \n",
    "A-C-D-B-A: 13  \n",
    "A-D-B-C-A: 40  \n",
    "A-D-C-B-A: 43  "
   ]
  },
  {
   "cell_type": "markdown",
   "metadata": {},
   "source": [
    "### Q10\n",
    "__Consider all possible sequences from Q9, identify the best (optimal) control sequence. Is this the control sequence that you expect? Explain why.__"
   ]
  },
  {
   "cell_type": "markdown",
   "metadata": {},
   "source": [
    "A-C-D-B-A is indeed the best control sequence, but it ties with A-B-D-C-A.  As we need to visit each city once, and we start and end in the same spot, there will be some symmetry due to the costs being equal in each direction (eg. A to B is the same as B to A). Thus, the same heuristic applied in the DP algorithm of minimisnig cost while working backwards from the goal would result in an identical result to minimising cost while working forwards towards the goal."
   ]
  },
  {
   "cell_type": "markdown",
   "metadata": {},
   "source": [
    "### Q11\n",
    "__Use the dynamic programming algorithm to identify the best (optimal) control sequence.__"
   ]
  },
  {
   "cell_type": "markdown",
   "metadata": {},
   "source": [
    "Note: working backwards from the end goal, A, but the cost 'variables' denote the order of travel. A is not an option as cities can only be visited once.\n",
    "\n",
    "\n",
    "J(Af) = 0  \n",
    "\n",
    "Third city:  \n",
    "J(BA) = 5, go to A  \n",
    "J(CA) = 1, go to A  \n",
    "J(DA) = 15, go to A  \n",
    "\n",
    "Second city:  \n",
    "J(BCA) = min{20 + J(CA)} = 4, if previous city was D, at B, go to C  \n",
    "J(CBA) = min{20 + J(BA)} = 25, if previous city was D, at C, go to B  \n",
    "J(BDA) = min{4 + J(DA)} = 20, if previous city was C, at B, go to D  \n",
    "J(DBA) = min{4 + J(BA)} = 9, if previous city was C, at B, go to B  \n",
    "J(CDA) = min{3 + J(DA)} = 18, if previous city was B, at C, go to D  \n",
    "J(DCA) = min{3 + J(CA)} = 4, if previous city was B, at D, go to C  \n",
    "\n",
    "First city:  \n",
    "J(AB) = min{20 + J(CDA), 4 + J(DCA)} = min{38, 8} => 8, if at B, go to C  \n",
    "J(AC) = min{20 + J(BDA), 3 + J(DBA)} = min{40, 12} => 12, if at C, go to D  \n",
    "J(AD) = min{4 + J(BCA), 3 + J(CBA)} = min{8, 28} => 8, if at D, go to B  \n",
    "\n",
    "\n",
    "Start:  \n",
    "J(A0) = min{5 + J(AB), 1 + J(AC), 15 + J(AD)} = min{13, 13, 23} => 8, if at A, go to either C or B  \n"
   ]
  },
  {
   "cell_type": "markdown",
   "metadata": {},
   "source": [
    "### Q12\n",
    "__Compare the control sequence from the \"cost-to-go\" functions (Q10) and dynamic programming algorithm (Q11). Are these sequences identical? Does this outcome align with your initial expectations?__"
   ]
  },
  {
   "cell_type": "markdown",
   "metadata": {},
   "source": [
    "The control sequences in the DP algorithm and 'cost-to-go' are the same, and in-line with initial expectations."
   ]
  },
  {
   "cell_type": "markdown",
   "metadata": {},
   "source": [
    "### Q13\n",
    "__In the above, we started and finished in city A. How would the optimal control sequence change if we were to start and finish in a different city?__"
   ]
  },
  {
   "cell_type": "markdown",
   "metadata": {},
   "source": [
    "All of the sequences would change, swapping out 'A' for the different start/end city and vice versa. This means that not only would the start and end transitions change, but the interim steps would have different costs due to the different distributions of transition costs (e.g., the relation of transitions A-B/C/D is different from B-A/C/D, where A-C is preferred, but B-C incurs the highest cost)."
   ]
  },
  {
   "cell_type": "markdown",
   "metadata": {},
   "source": [
    "### Q14\n",
    "__In the above, we considered a problem with 4 states (cities). How would you handle a higher order problem (e.g. with 20 cities)?__"
   ]
  },
  {
   "cell_type": "markdown",
   "metadata": {},
   "source": [
    "The number of states increases exponentially with the inclusion of more cities. In high order problems, this can be computationally expensive, having to calculate the cost at every state to create the optimal action 'map'. An alternative search method, such as A* with an appropriate heuristic, can limit the search."
   ]
  },
  {
   "cell_type": "markdown",
   "metadata": {},
   "source": [
    "### Q15\n",
    "__Given the costs in Q8, complete the following code to implement the deterministic dynamic programming algorithm for the TSP starting from City \"A\".__"
   ]
  },
  {
   "cell_type": "code",
   "execution_count": 4,
   "metadata": {},
   "outputs": [],
   "source": [
    "cityCosts = np.array([\n",
    "  [float('inf'), 5, 1, 15],\n",
    "  [5, float('inf'), 20, 4],\n",
    "  [1, 20, float('inf'), 3],\n",
    "  [15, 4, 3, float('inf')]  \n",
    "])"
   ]
  },
  {
   "cell_type": "code",
   "execution_count": 9,
   "metadata": {},
   "outputs": [],
   "source": [
    "# Create Dynamic Programming function \n",
    "# Hint: use 'def func_name(inputs): ... return outputs'\n",
    "### START CODE HERE ###\n",
    "def DeterministicDP(idk, tempCost, ActionSet):\n",
    "    costs = [tempCost[i] for i, _ in  enumerate(ActionSet)]\n",
    "    newCost = min(costs)\n",
    "    newAction = ActionSet[costs.index(newCost)]\n",
    "    return newCost, newAction\n",
    "### END CODE HERE ###"
   ]
  },
  {
   "cell_type": "code",
   "execution_count": 10,
   "metadata": {},
   "outputs": [
    {
     "name": "stdout",
     "output_type": "stream",
     "text": [
      "['A', 'B', 'C', 'D']\n",
      "City Set: ['A', 'B', 'C', 'D']\n",
      "Travel Costs:\n",
      " [[inf  5.  1. 15.]\n",
      " [ 5. inf 20.  4.]\n",
      " [ 1. 20. inf  3.]\n",
      " [15.  4.  3. inf]]\n",
      "Final Cost: 13.0\n",
      "Cost: [5.0, 4.0, 3.0, 1.0, 0]\n",
      "Path: ['A', 'B', 'D', 'C', 'A']\n"
     ]
    }
   ],
   "source": [
    "numCity = 4 # set number of cities\n",
    "Path = ['A'] # initialize terminal state in the path\n",
    "Cost = [0] # initialize terminal cost\n",
    "runningCost = 0 # intiailize terminal running cost\n",
    "# Create Action Set\n",
    "ActionSet = []\n",
    "for ii in range(numCity):\n",
    "    ActionSet += chr(ord('A')+ii)\n",
    "print(ActionSet)\n",
    "# Establish Terminal State City\n",
    "currentCity = 'A'\n",
    "\n",
    "# while we have not visited all cities\n",
    "while len(Path) <= numCity:\n",
    "    # extract the cost to travel from where we are\n",
    "    tempCost = np.array(cityCosts[:,ActionSet.index(currentCity)])\n",
    "    if len(Path) < numCity:\n",
    "        # if we haven't visited all cities\n",
    "        for ii in Path:\n",
    "            # set the cost for any city we have been to to infinite\n",
    "            tempCost[ActionSet.index(ii)] = float('inf')\n",
    "    else:\n",
    "        # after we have visited all cities\n",
    "        for ii in Path[:-1]:\n",
    "            # set every city except the last to have infinite cost\n",
    "            tempCost[ActionSet.index(ii)] = float('inf')\n",
    "    \n",
    "    # operate DP function\n",
    "    newCost, newAction = DeterministicDP(0, tempCost, ActionSet)\n",
    "    Path.insert(0,newAction) # add action to the START of the path\n",
    "    Cost.insert(0,newCost) # add the cost\n",
    "    runningCost += newCost # add to running cost\n",
    "    currentCity = newAction # update location\n",
    "\n",
    "print('City Set:', ActionSet)\n",
    "print('Travel Costs:\\n', cityCosts)\n",
    "print('Final Cost:', runningCost)\n",
    "print('Cost:', Cost)\n",
    "print('Path:', Path)"
   ]
  },
  {
   "cell_type": "markdown",
   "metadata": {},
   "source": [
    "## Part C: Discussion"
   ]
  },
  {
   "cell_type": "markdown",
   "metadata": {},
   "source": [
    "### Q16\n",
    "__Discuss the issues you have encountered when using the deterministic dynamic programming algorithm.__"
   ]
  },
  {
   "cell_type": "markdown",
   "metadata": {},
   "source": [
    "* With large state spaces, there is a lot of computation required to calculate all the costs\n",
    "* Without sufficient constraints, the algorithm can run itself into circles, such as in the case of being able to repeat city visits in the above example"
   ]
  },
  {
   "cell_type": "markdown",
   "metadata": {},
   "source": [
    "### Q17\n",
    "__Consider the TSP problem and assume that the salesperson needs to do a round-trip (covering all cities starting and ending in City \"A\" every day). Unfortunately, the travelling cost between cities is random, and the salesperson does not known values in advance. Suggest a procedure that will assist the salesperson to optimize their route choices over time.__"
   ]
  },
  {
   "cell_type": "markdown",
   "metadata": {},
   "source": [
    "Without knowing values in advance, and the problem being random, one can apply dynamic programming for stochastic systems. This shifts the focus towards optimising control policies, instead of sequences. One could assume a cost distribution for each action, and update probabilities overtime as they are realised in order to improve the model."
   ]
  },
  {
   "cell_type": "markdown",
   "metadata": {},
   "source": []
  },
  {
   "cell_type": "markdown",
   "metadata": {},
   "source": []
  }
 ],
 "metadata": {
  "kernelspec": {
   "display_name": "Python 3 (ipykernel)",
   "language": "python",
   "name": "python3"
  },
  "language_info": {
   "codemirror_mode": {
    "name": "ipython",
    "version": 3
   },
   "file_extension": ".py",
   "mimetype": "text/x-python",
   "name": "python",
   "nbconvert_exporter": "python",
   "pygments_lexer": "ipython3",
   "version": "3.10.12"
  }
 },
 "nbformat": 4,
 "nbformat_minor": 2
}
