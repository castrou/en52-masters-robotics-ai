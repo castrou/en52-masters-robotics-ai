{
 "cells": [
  {
   "cell_type": "code",
   "execution_count": 1,
   "metadata": {},
   "outputs": [],
   "source": [
    "import os\n",
    "\n",
    "import cv2\n",
    "from matplotlib import pyplot as plt\n",
    "import numpy as np\n",
    "\n",
    "from spatialmath import *\n",
    "from spatialmath.base import *\n",
    "from spatialmath.base import sym\n",
    "from spatialgeometry import *\n",
    "\n",
    "import glob\n",
    "import yaml\n",
    "from configparser import ConfigParser"
   ]
  },
  {
   "cell_type": "markdown",
   "metadata": {},
   "source": [
    "### Point Cloud Stuff"
   ]
  },
  {
   "cell_type": "code",
   "execution_count": 2,
   "metadata": {},
   "outputs": [],
   "source": [
    "ply_header = '''ply\n",
    "format ascii 1.0\n",
    "element vertex %(vert_num)d\n",
    "property float x\n",
    "property float y\n",
    "property float z\n",
    "property uchar red\n",
    "property uchar green\n",
    "property uchar blue\n",
    "end_header\n",
    "'''\n",
    "\n",
    "def write_ply(fn, verts, colors):\n",
    "    verts = verts.reshape(-1, 3)\n",
    "    colors = colors.reshape(-1, 3)\n",
    "    verts = np.hstack([verts, colors])\n",
    "    with open(fn, 'wb') as f:\n",
    "        f.write((ply_header % dict(vert_num=len(verts))).encode('utf-8'))\n",
    "        np.savetxt(f, verts, fmt='%f %f %f %d %d %d ')\n"
   ]
  },
  {
   "cell_type": "markdown",
   "metadata": {},
   "source": [
    "### Stereo Mapper"
   ]
  },
  {
   "cell_type": "code",
   "execution_count": 3,
   "metadata": {},
   "outputs": [],
   "source": [
    "class StereoMapper():\n",
    "    def __init__(self) -> None:\n",
    "        \n",
    "        config_file = ConfigParser()\n",
    "        config_file.read(\"/home/castrou/zed/settings/SN23964822.conf\")\n",
    "        \n",
    "        # Stereo config\n",
    "        self.calib_stereo = {}\n",
    "        for i in config_file['STEREO']:\n",
    "            self.calib_stereo[i] = config_file.get('STEREO', i)\n",
    "        # Camera Config\n",
    "        self.calib_l = {}\n",
    "        for i in config_file['LEFT_CAM_HD']:\n",
    "            self.calib_l[i] = config_file.get('LEFT_CAM_HD', i)\n",
    "        # Camera Config\n",
    "        self.calib_r = {}\n",
    "        for i in config_file['RIGHT_CAM_HD']:\n",
    "            self.calib_r[i] = config_file.get('RIGHT_CAM_HD', i)\n",
    "            \n",
    "        # Get stereo settings    \n",
    "        with open(\"/home/castrou/zed/settings/zed_oc_stereo.yaml\") as stereo_yaml:\n",
    "            skip_lines = 2\n",
    "            for i in range(skip_lines):\n",
    "                _ = stereo_yaml.readline()\n",
    "            self.stereo_opt = yaml.safe_load(stereo_yaml)\n",
    "        # Create stereo\n",
    "        self.stereo = cv2.StereoSGBM_create(\n",
    "            blockSize=self.stereo_opt['blockSize'],\n",
    "            minDisparity=self.stereo_opt['minDisparity'], \n",
    "            numDisparities=self.stereo_opt['numDisparities'],\n",
    "            mode=self.stereo_opt['mode'],\n",
    "            disp12MaxDiff=self.stereo_opt['disp12MaxDiff'],\n",
    "            preFilterCap=self.stereo_opt['preFilterCap'],\n",
    "            uniquenessRatio=self.stereo_opt['uniquenessRatio'],\n",
    "            speckleWindowSize=self.stereo_opt['speckleWindowSize'],\n",
    "            speckleRange=self.stereo_opt['speckleRange']\n",
    "        )\n",
    "        \n",
    "    def disparity(self, left, right):\n",
    "        disparity = self.stereo.compute(left, right)  \n",
    "        disparity = disparity.astype(np.float32) / 16.0\n",
    "        return disparity\n",
    "    \n",
    "    def depth(self, left, right):\n",
    "        disp = self.disparity(left, right)\n",
    "        b = self.calib_stereo['Baseline']\n",
    "        f = self.calib_l['fx']\n",
    "        Z_p = b*f / disp\n",
    "        depth = Z_p\n",
    "        # depth = Z_p.clip(0,30)\n",
    "        return depth\n",
    "        \n",
    "    def pcl(self, left, right, output_name=\"\"):\n",
    "        print('computing disparity...')\n",
    "        disp = self.disparity(left, right)\n",
    "        print('generating 3d point cloud...',)\n",
    "        h, w = left.shape[:2]\n",
    "        f = float(self.calib_l['fx'])  # focal length\n",
    "        Q = np.float32([[1, 0, 0, -0.5*w],\n",
    "                        [0,-1, 0,  0.5*h], # turn points 180 deg around x-axis,\n",
    "                        [0, 0, 0,     -f], # so that y-axis looks up\n",
    "                        [0, 0, 1,      0]])\n",
    "        points = cv2.reprojectImageTo3D(disp, Q)\n",
    "        colors = cv2.cvtColor(left, cv2.COLOR_BGR2RGB)\n",
    "        mask = disp > disp.min()\n",
    "        out_points = points[mask]\n",
    "        out_colors = colors[mask]\n",
    "\n",
    "        write_ply(output_name, out_points, out_colors)\n",
    "        print('%s saved' % output_name)\n"
   ]
  },
  {
   "cell_type": "markdown",
   "metadata": {},
   "source": [
    "### Util"
   ]
  },
  {
   "cell_type": "code",
   "execution_count": 4,
   "metadata": {},
   "outputs": [],
   "source": [
    "def plot_disparity(disparity, title=''):\n",
    "    if type(disparity) == list:\n",
    "        images = disparity\n",
    "        '''Plot a grid of images'''\n",
    "        factors = [i for i in range(1, len(images)+1) if len(images) % i == 0]\n",
    "        ncols = factors[len(factors) // 2] if len(factors) else len(images) // 4 + 1\n",
    "        nrows = int(len(images) / ncols) + int(len(images) % ncols)\n",
    "        imgs = [images[i] if len(images) > i else None for i in range(nrows * ncols)]\n",
    "        f, axes = plt.subplots(nrows, ncols, figsize=(10*ncols, 5*nrows))\n",
    "        axes = axes.flatten()[:len(imgs)]\n",
    "        for img, ax in zip(imgs, axes.flatten()): \n",
    "            if np.any(img):\n",
    "                if len(img.shape) > 2 and img.shape[2] == 1:\n",
    "                    img = img.squeeze()\n",
    "                ax.imshow(img)\n",
    "        plt.suptitle(title)\n",
    "        \n",
    "    else:\n",
    "        # plot the disparity map\n",
    "        plt.figure(figsize=(20,5))\n",
    "        plt.imshow(disparity,'gray')\n",
    "        plt.title('Disparity Map using block matching')\n",
    "        plt.colorbar()\n",
    "        plt.show()\n",
    "\n",
    "def get_file_idx(path):\n",
    "    file = path.split('/')[-1]\n",
    "    filename = file.split('.')[0]\n",
    "    idx = filename[5:]\n",
    "    return int(idx)"
   ]
  },
  {
   "cell_type": "markdown",
   "metadata": {},
   "source": [
    "### Generate Point Clouds"
   ]
  },
  {
   "cell_type": "code",
   "execution_count": 5,
   "metadata": {},
   "outputs": [],
   "source": [
    "stereo = StereoMapper()\n",
    "base_dir = \"/home/castrou/university/thesis/data/\""
   ]
  },
  {
   "cell_type": "code",
   "execution_count": 6,
   "metadata": {},
   "outputs": [
    {
     "name": "stdout",
     "output_type": "stream",
     "text": [
      "computing disparity...\n",
      "generating 3d point cloud...\n",
      "/home/castrou/university/thesis/data/yandiwanba_22-05_1/pcl/cloud2268.ply saved\n"
     ]
    },
    {
     "ename": "",
     "evalue": "",
     "output_type": "error",
     "traceback": [
      "\u001b[1;31mThe Kernel crashed while executing code in the current cell or a previous cell. \n",
      "\u001b[1;31mPlease review the code in the cell(s) to identify a possible cause of the failure. \n",
      "\u001b[1;31mClick <a href='https://aka.ms/vscodeJupyterKernelCrash'>here</a> for more info. \n",
      "\u001b[1;31mView Jupyter <a href='command:jupyter.viewOutput'>log</a> for further details."
     ]
    }
   ],
   "source": [
    "# Load Scan 1\n",
    "dir = os.path.join(base_dir, \"yandiwanba_22-05_1/\")\n",
    "l_dir = os.path.join(dir, \"img/left/\")\n",
    "r_dir = os.path.join(dir, \"img/right/\")\n",
    "start_idx = 300 # manually discovered\n",
    "end_idx = 2500 # \"\"\n",
    "\n",
    "left_files = [os.path.join(l_dir, file) for file in os.listdir(l_dir) \n",
    "                if get_file_idx(file) > start_idx\n",
    "                and get_file_idx(file) < end_idx]\n",
    "right_files = [os.path.join(r_dir, file) for file in os.listdir(r_dir) if get_file_idx(file) \n",
    "                if get_file_idx(file) > start_idx\n",
    "                and get_file_idx(file) < end_idx]\n",
    "\n",
    "for l_img_file, r_img_file in zip(left_files, right_files):\n",
    "    # idx alignment\n",
    "    l_idx = get_file_idx(l_img_file)\n",
    "    r_idx = get_file_idx(r_img_file)\n",
    "    assert l_idx == r_idx\n",
    "    idx = l_idx\n",
    "    \n",
    "    img_l = cv2.imread(l_img_file)\n",
    "    img_r = cv2.imread(r_img_file)\n",
    "    cv2.imshow('left', img_l)\n",
    "    cv2.imshow('right', img_r)\n",
    "    pcl = stereo.pcl(img_l, img_r, output_name=os.path.join(dir, f\"pcl/cloud{idx}.ply\"))\n",
    "    break"
   ]
  },
  {
   "cell_type": "code",
   "execution_count": null,
   "metadata": {},
   "outputs": [],
   "source": []
  }
 ],
 "metadata": {
  "kernelspec": {
   "display_name": "Python 3",
   "language": "python",
   "name": "python3"
  },
  "language_info": {
   "codemirror_mode": {
    "name": "ipython",
    "version": 3
   },
   "file_extension": ".py",
   "mimetype": "text/x-python",
   "name": "python",
   "nbconvert_exporter": "python",
   "pygments_lexer": "ipython3",
   "version": "3.10.13"
  }
 },
 "nbformat": 4,
 "nbformat_minor": 2
}
