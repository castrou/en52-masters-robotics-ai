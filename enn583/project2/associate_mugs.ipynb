{
 "cells": [
  {
   "cell_type": "code",
   "execution_count": null,
   "id": "62ac7468-1ed2-4876-96b4-09869615d1ef",
   "metadata": {},
   "outputs": [],
   "source": [
    "import json\n",
    "import numpy as np\n",
    "from scipy.optimize import linear_sum_assignment \n",
    "\n",
    "distance_threshold = 0.3\n",
    "\n",
    "your_results = 'your_results.json'"
   ]
  },
  {
   "cell_type": "code",
   "execution_count": null,
   "id": "5bb51fae-a8ba-4df5-9780-ea23473a515b",
   "metadata": {},
   "outputs": [],
   "source": [
    "with open('gt_locations.json', 'r') as f:\n",
    "    data = json.load(f)\n",
    "\n",
    "with open(f'{your_results}', 'r') as f:\n",
    "    predictions = json.load(f)"
   ]
  },
  {
   "cell_type": "code",
   "execution_count": null,
   "id": "1f449679-89ea-43d7-a8d4-46e16b6702a7",
   "metadata": {},
   "outputs": [],
   "source": [
    "all_gt = []\n",
    "for obj in data.keys():\n",
    "    all_gt += [data[obj]]\n",
    "\n",
    "all_pred = []\n",
    "for obj in predictions['objects']:\n",
    "    all_pred += [obj['position']]"
   ]
  },
  {
   "cell_type": "code",
   "execution_count": null,
   "id": "245480fc-0bd2-42b8-85d9-00c15a4cf026",
   "metadata": {},
   "outputs": [],
   "source": [
    "all_gt = np.array(all_gt)\n",
    "all_pred = np.array(all_pred)\n",
    "\n",
    "distance_matrix = []\n",
    "for p in all_pred:\n",
    "    dists = np.linalg.norm(all_gt - p, axis = 1) #euclidean distance\n",
    "    distance_matrix += [dists]\n",
    "\n",
    "distance_matrix = np.array(distance_matrix)\n",
    "\n",
    "mask = distance_matrix <= distance_threshold\n"
   ]
  },
  {
   "cell_type": "code",
   "execution_count": null,
   "id": "02a15c87-b45e-4332-841a-81493b992f50",
   "metadata": {},
   "outputs": [],
   "source": [
    "import matplotlib.pyplot as plt\n",
    "\n",
    "plt.imshow(distance_matrix)\n",
    "plt.xlabel('GT Locations')\n",
    "plt.ylabel('Pred Locations')\n",
    "plt.title('Distances')\n",
    "plt.colorbar()\n",
    "plt.show()\n",
    "\n",
    "plt.imshow(mask)\n",
    "plt.xlabel('GT Locations')\n",
    "plt.ylabel('Pred Locations')\n",
    "plt.title('Distances within threshold')\n",
    "plt.colorbar()\n",
    "plt.show()"
   ]
  },
  {
   "cell_type": "code",
   "execution_count": null,
   "id": "1d9ec8df-7773-4930-9825-d416a5ab2758",
   "metadata": {},
   "outputs": [],
   "source": [
    "tp = 0  #correctly localised mug\n",
    "fp = 0 #predictions that did not localise a mug\n",
    "fn = 0 #mugs that were not localised\n",
    "\n",
    "mugs_found = np.array([False for i in range(9)])\n",
    "for pred_idx in range(9):\n",
    "    localised = mask[pred_idx]   #did the prediction localise any of the mugs?\n",
    "    \n",
    "    if np.sum(localised) == 0:        # no mugs correctly localised, it is a FP\n",
    "        fp += 1\n",
    "\n",
    "    elif np.sum(localised) == 1:        # a prediction found one mug\n",
    "        #check if that mug has been detected already? a mug can only be detected once\n",
    "        idx = np.where(localised == True)[0][0]\n",
    "\n",
    "        if mugs_found[idx] == True: #this is a duplicate object report\n",
    "            fp += 1\n",
    "\n",
    "        else: #this is a correct detection of a mug\n",
    "            mugs_found[idx] = True\n",
    "            tp += 1\n",
    "\n",
    "    else:   #the prediction could be assigned to multiple mugs -- in this case we will start with closest mug and check all mugs under the distance\n",
    "        all_idxs = np.argsort(distance_matrix[pred_idx])\n",
    "        for idx in all_idxs:\n",
    "            if distance_matrix[pred_idx, idx] <= distance_threshold:\n",
    "                if mugs_found[idx] == False: #within threshold and not detected yet\n",
    "                    mugs_found[idx] = True\n",
    "                    tp += 1\n",
    "                    break\n",
    "                    \n",
    "            else: #once we reach this point, it definitely won't be associated\n",
    "                fp += 1 # must be a duplicate object report\n",
    "                break\n",
    "                \n",
    "#fn are all mugs not associated\n",
    "fn = np.sum(mugs_found == False)\n",
    "\n",
    "print(tp, fp, fn)"
   ]
  },
  {
   "cell_type": "code",
   "execution_count": null,
   "id": "5660c181-370f-4770-946a-926cb87340f3",
   "metadata": {},
   "outputs": [],
   "source": []
  }
 ],
 "metadata": {
  "kernelspec": {
   "display_name": "Python 3 (ipykernel)",
   "language": "python",
   "name": "python3"
  },
  "language_info": {
   "codemirror_mode": {
    "name": "ipython",
    "version": 3
   },
   "file_extension": ".py",
   "mimetype": "text/x-python",
   "name": "python",
   "nbconvert_exporter": "python",
   "pygments_lexer": "ipython3",
   "version": "3.8.18"
  }
 },
 "nbformat": 4,
 "nbformat_minor": 5
}
